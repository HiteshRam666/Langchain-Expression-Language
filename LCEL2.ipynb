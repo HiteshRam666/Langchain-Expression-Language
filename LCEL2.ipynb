{
 "cells": [
  {
   "cell_type": "code",
   "execution_count": 1,
   "metadata": {},
   "outputs": [],
   "source": [
    "import os\n",
    "from dotenv import load_dotenv, find_dotenv \n",
    "_ = load_dotenv(find_dotenv()) \n",
    "openai_api_key = os.environ[\"OPENAI_API_KEY\"]"
   ]
  },
  {
   "cell_type": "code",
   "execution_count": 2,
   "metadata": {},
   "outputs": [],
   "source": [
    "from langchain_core.prompts import ChatPromptTemplate \n",
    "from langchain_openai import ChatOpenAI  \n",
    "from langchain_core.output_parsers import StrOutputParser\n",
    "\n",
    "prompt = ChatPromptTemplate.from_template(\"Tell me funny joke about {person}\") \n",
    "\n",
    "output_parser = StrOutputParser() \n",
    "\n",
    "model = ChatOpenAI()"
   ]
  },
  {
   "cell_type": "code",
   "execution_count": 3,
   "metadata": {},
   "outputs": [
    {
     "name": "stdout",
     "output_type": "stream",
     "text": [
      "Why did Michael Jackson go to Walmart?\n",
      "\n",
      "Because he heard they had great deals on kids' clothes!\n"
     ]
    }
   ],
   "source": [
    "chain = prompt | model | output_parser \n",
    "\n",
    "print(chain.invoke({\"person\": \"Michael  Jackson\"}))"
   ]
  },
  {
   "cell_type": "code",
   "execution_count": 4,
   "metadata": {},
   "outputs": [
    {
     "name": "stdout",
     "output_type": "stream",
     "text": [
      "Why did \n"
     ]
    }
   ],
   "source": [
    "# .bind() \n",
    "\n",
    "chain = prompt | model.bind(stop = [\"Michael Jackson\"]) | output_parser\n",
    "\n",
    "print(chain.invoke({\"person\": \"Michael Jackson\"}))"
   ]
  },
  {
   "cell_type": "markdown",
   "metadata": {},
   "source": [
    "#### **Combined Chain**"
   ]
  },
  {
   "cell_type": "code",
   "execution_count": 5,
   "metadata": {},
   "outputs": [],
   "source": [
    "historian_prompt = ChatPromptTemplate.from_template(\"What Was {person} ?\")\n",
    "\n",
    "composed_chain = {\"person\" : chain} | historian_prompt | model | StrOutputParser()"
   ]
  },
  {
   "cell_type": "code",
   "execution_count": 6,
   "metadata": {},
   "outputs": [
    {
     "data": {
      "text/plain": [
       "'This is a play on words, as \"on the house\" typically means that drinks are free or provided by the establishment. Kanye West bringing a ladder to the bar suggests that he thought the drinks were literally on top of the building or structure.'"
      ]
     },
     "execution_count": 6,
     "metadata": {},
     "output_type": "execute_result"
    }
   ],
   "source": [
    "composed_chain.invoke({\"person\" : \"Kanye\"})"
   ]
  },
  {
   "cell_type": "code",
   "execution_count": 7,
   "metadata": {},
   "outputs": [
    {
     "data": {
      "text/plain": [
       "\"François Mitterrand était originaire d'Europe, plus précisément du continent européen.\""
      ]
     },
     "execution_count": 7,
     "metadata": {},
     "output_type": "execute_result"
    }
   ],
   "source": [
    "from operator import itemgetter \n",
    "from langchain_core.prompts import ChatPromptTemplate \n",
    "from langchain_core.output_parsers import StrOutputParser \n",
    "from langchain_openai import ChatOpenAI \n",
    "\n",
    "prompt1 = ChatPromptTemplate.from_template(\"What is the country {politician} is from ?\") \n",
    "prompt2 = ChatPromptTemplate.from_template(\n",
    "    \"What continent is the country {country} in ? respond in {language}\"\n",
    ")\n",
    "\n",
    "chain1 = prompt1 | model | StrOutputParser() \n",
    "\n",
    "chain2 = (\n",
    "    {\"country\" : chain1, \"language\" : itemgetter(\"language\")} \n",
    "    | prompt2 \n",
    "    | model\n",
    "    | StrOutputParser() \n",
    ")\n",
    "\n",
    "chain2.invoke({\"politician\" : \"Miterrand\", \"language\": \"French\"})"
   ]
  },
  {
   "cell_type": "markdown",
   "metadata": {},
   "source": [
    "#### **LCEL chain at work in a typical RAG app**"
   ]
  },
  {
   "cell_type": "code",
   "execution_count": 8,
   "metadata": {},
   "outputs": [
    {
     "name": "stderr",
     "output_type": "stream",
     "text": [
      "USER_AGENT environment variable not set, consider setting it to identify your requests.\n",
      "d:\\Code\\Langchain\\venv\\Lib\\site-packages\\langsmith\\client.py:241: LangSmithMissingAPIKeyWarning: API key must be provided when using hosted LangSmith API\n",
      "  warnings.warn(\n"
     ]
    }
   ],
   "source": [
    "import bs4 \n",
    "from langchain import hub\n",
    "from langchain_chroma import Chroma \n",
    "from langchain_community.document_loaders import WebBaseLoader\n",
    "from langchain_core.output_parsers import StrOutputParser \n",
    "from langchain_core.runnables import RunnablePassthrough\n",
    "from langchain_openai import OpenAIEmbeddings \n",
    "from langchain_text_splitters import RecursiveCharacterTextSplitter\n",
    "\n",
    "loader = WebBaseLoader(\n",
    "    web_path=(\"https://lilianweng.github.io/posts/2023-06-23-agent/\"), \n",
    "    bs_kwargs=dict(\n",
    "        parse_only = bs4.SoupStrainer(\n",
    "            class_ = (\"post-content\", \"post-title\", \"post-header\")\n",
    "        ),\n",
    "    )\n",
    ")\n",
    "\n",
    "docs = loader.load() \n",
    "\n",
    "text_splitter = RecursiveCharacterTextSplitter(chunk_size = 1000, chunk_overlap = 200) \n",
    "\n",
    "splits = text_splitter.split_documents(docs) \n",
    "\n",
    "vectorstore = Chroma.from_documents(documents=splits, embedding=OpenAIEmbeddings())\n",
    "\n",
    "retriever = vectorstore.as_retriever() \n",
    "\n",
    "prompt = hub.pull(\"rlm/rag-prompt\") \n",
    "\n",
    "def format_docs(docs):\n",
    "    return \"\\n\\n\".join(doc.page_content for doc in docs)\n",
    "     \n",
    "rag_chain = (\n",
    "    {\"context\": retriever | format_docs, \"question\": RunnablePassthrough()}\n",
    "    | prompt \n",
    "    | model \n",
    "    | StrOutputParser()\n",
    ")"
   ]
  },
  {
   "cell_type": "code",
   "execution_count": 9,
   "metadata": {},
   "outputs": [
    {
     "data": {
      "text/plain": [
       "'Decomposition is the process of breaking down a problem into multiple thought steps or manageable tasks. This can help in generating multiple thoughts per step and creating a tree structure for problem-solving. Different techniques, such as using simple prompting, task-specific instructions, or human inputs, can be employed for task decomposition.'"
      ]
     },
     "execution_count": 9,
     "metadata": {},
     "output_type": "execute_result"
    }
   ],
   "source": [
    "rag_chain.invoke(\"What is Decompostion ?\")"
   ]
  }
 ],
 "metadata": {
  "kernelspec": {
   "display_name": "venv",
   "language": "python",
   "name": "python3"
  },
  "language_info": {
   "codemirror_mode": {
    "name": "ipython",
    "version": 3
   },
   "file_extension": ".py",
   "mimetype": "text/x-python",
   "name": "python",
   "nbconvert_exporter": "python",
   "pygments_lexer": "ipython3",
   "version": "3.12.0"
  }
 },
 "nbformat": 4,
 "nbformat_minor": 2
}
