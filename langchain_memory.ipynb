{
 "cells": [
  {
   "cell_type": "code",
   "execution_count": 35,
   "metadata": {},
   "outputs": [],
   "source": [
    "import os \n",
    "from dotenv import load_dotenv, find_dotenv\n",
    "_ = load_dotenv(find_dotenv())\n",
    "openai_api_key = os.environ[\"OPENAI_API_KEY\"]"
   ]
  },
  {
   "cell_type": "code",
   "execution_count": 36,
   "metadata": {},
   "outputs": [],
   "source": [
    "from langchain_openai import ChatOpenAI \n",
    "\n",
    "model = ChatOpenAI(model = \"gpt-3.5-turbo-0125\")"
   ]
  },
  {
   "cell_type": "markdown",
   "metadata": {},
   "source": [
    "#### **Buffer Memory**\n",
    "\n",
    "- ConversationBufferMemory keeps a list of chat messages in a buffer and passes those into the prompt template."
   ]
  },
  {
   "cell_type": "code",
   "execution_count": 37,
   "metadata": {},
   "outputs": [],
   "source": [
    "from langchain_core.prompts import (\n",
    "    ChatPromptTemplate,\n",
    "    MessagesPlaceholder,\n",
    "    SystemMessagePromptTemplate,\n",
    "    HumanMessagePromptTemplate,\n",
    ")\n",
    "from langchain.chains import LLMChain\n",
    "from langchain.memory import ConversationBufferMemory\n",
    "\n",
    "\n",
    "prompt = ChatPromptTemplate(\n",
    "    messages=[\n",
    "        SystemMessagePromptTemplate.from_template(\n",
    "            \"You are a nice chatbot having a conversation with a human.\"\n",
    "        ),\n",
    "        # The `variable_name` here is what must align with memory\n",
    "        MessagesPlaceholder(variable_name=\"chat_history\"),\n",
    "        HumanMessagePromptTemplate.from_template(\"{question}\")\n",
    "    ]\n",
    ")\n",
    "\n",
    "memory = ConversationBufferMemory(memory_key=\"chat_history\", return_messages=True)\n",
    "\n",
    "conversation = LLMChain(\n",
    "    llm=model,\n",
    "    prompt=prompt,\n",
    "    verbose=True,\n",
    "    memory=memory\n",
    ")"
   ]
  },
  {
   "cell_type": "code",
   "execution_count": 38,
   "metadata": {},
   "outputs": [
    {
     "name": "stderr",
     "output_type": "stream",
     "text": [
      "Error in StdOutCallbackHandler.on_chain_start callback: AttributeError(\"'NoneType' object has no attribute 'get'\")\n"
     ]
    },
    {
     "name": "stdout",
     "output_type": "stream",
     "text": [
      "Prompt after formatting:\n",
      "\u001b[32;1m\u001b[1;3mSystem: You are a nice chatbot having a conversation with a human.\n",
      "Human: hi\u001b[0m\n",
      "\n",
      "\u001b[1m> Finished chain.\u001b[0m\n"
     ]
    },
    {
     "data": {
      "text/plain": [
       "{'question': 'hi',\n",
       " 'chat_history': [HumanMessage(content='hi'),\n",
       "  AIMessage(content='Hello! How are you today?')],\n",
       " 'text': 'Hello! How are you today?'}"
      ]
     },
     "execution_count": 38,
     "metadata": {},
     "output_type": "execute_result"
    }
   ],
   "source": [
    "conversation({\"question\": \"hi\"})"
   ]
  },
  {
   "cell_type": "code",
   "execution_count": 39,
   "metadata": {},
   "outputs": [
    {
     "name": "stderr",
     "output_type": "stream",
     "text": [
      "Error in StdOutCallbackHandler.on_chain_start callback: AttributeError(\"'NoneType' object has no attribute 'get'\")\n"
     ]
    },
    {
     "name": "stdout",
     "output_type": "stream",
     "text": [
      "Prompt after formatting:\n",
      "\u001b[32;1m\u001b[1;3mSystem: You are a nice chatbot having a conversation with a human.\n",
      "Human: hi\n",
      "AI: Hello! How are you today?\n",
      "Human: My name is Hitesh and I have love Artificial Intelligence.\u001b[0m\n",
      "\n",
      "\u001b[1m> Finished chain.\u001b[0m\n"
     ]
    },
    {
     "data": {
      "text/plain": [
       "{'question': 'My name is Hitesh and I have love Artificial Intelligence.',\n",
       " 'chat_history': [HumanMessage(content='hi'),\n",
       "  AIMessage(content='Hello! How are you today?'),\n",
       "  HumanMessage(content='My name is Hitesh and I have love Artificial Intelligence.'),\n",
       "  AIMessage(content=\"Nice to meet you, Hitesh! It's great to hear that you love Artificial Intelligence. What specifically about AI interests you the most?\")],\n",
       " 'text': \"Nice to meet you, Hitesh! It's great to hear that you love Artificial Intelligence. What specifically about AI interests you the most?\"}"
      ]
     },
     "execution_count": 39,
     "metadata": {},
     "output_type": "execute_result"
    }
   ],
   "source": [
    "conversation({\"question\": \"My name is Hitesh and I have love Artificial Intelligence.\"})"
   ]
  },
  {
   "cell_type": "code",
   "execution_count": 40,
   "metadata": {},
   "outputs": [
    {
     "name": "stderr",
     "output_type": "stream",
     "text": [
      "Error in StdOutCallbackHandler.on_chain_start callback: AttributeError(\"'NoneType' object has no attribute 'get'\")\n"
     ]
    },
    {
     "name": "stdout",
     "output_type": "stream",
     "text": [
      "Prompt after formatting:\n",
      "\u001b[32;1m\u001b[1;3mSystem: You are a nice chatbot having a conversation with a human.\n",
      "Human: hi\n",
      "AI: Hello! How are you today?\n",
      "Human: My name is Hitesh and I have love Artificial Intelligence.\n",
      "AI: Nice to meet you, Hitesh! It's great to hear that you love Artificial Intelligence. What specifically about AI interests you the most?\n",
      "Human: What is Variance Inflation factor ?\u001b[0m\n",
      "\n",
      "\u001b[1m> Finished chain.\u001b[0m\n"
     ]
    },
    {
     "data": {
      "text/plain": [
       "{'question': 'What is Variance Inflation factor ?',\n",
       " 'chat_history': [HumanMessage(content='hi'),\n",
       "  AIMessage(content='Hello! How are you today?'),\n",
       "  HumanMessage(content='My name is Hitesh and I have love Artificial Intelligence.'),\n",
       "  AIMessage(content=\"Nice to meet you, Hitesh! It's great to hear that you love Artificial Intelligence. What specifically about AI interests you the most?\"),\n",
       "  HumanMessage(content='What is Variance Inflation factor ?'),\n",
       "  AIMessage(content=\"Variance Inflation Factor (VIF) is a measure used in statistics to quantify how much the variance of the estimated regression coefficients is increased due to multicollinearity in the predictor variables. \\n\\nIn simple terms, VIF helps to identify if there is a high correlation between predictor variables in a regression model, which can cause issues like unstable coefficients or inflated standard errors. A high VIF value indicates that the variable may be redundant and can affect the accuracy and reliability of the regression analysis. \\n\\nTypically, a VIF value greater than 10 is considered problematic, indicating strong multicollinearity. Researchers often use VIF as a diagnostic tool to assess multicollinearity in regression models and make necessary adjustments to improve the model's performance.\")],\n",
       " 'text': \"Variance Inflation Factor (VIF) is a measure used in statistics to quantify how much the variance of the estimated regression coefficients is increased due to multicollinearity in the predictor variables. \\n\\nIn simple terms, VIF helps to identify if there is a high correlation between predictor variables in a regression model, which can cause issues like unstable coefficients or inflated standard errors. A high VIF value indicates that the variable may be redundant and can affect the accuracy and reliability of the regression analysis. \\n\\nTypically, a VIF value greater than 10 is considered problematic, indicating strong multicollinearity. Researchers often use VIF as a diagnostic tool to assess multicollinearity in regression models and make necessary adjustments to improve the model's performance.\"}"
      ]
     },
     "execution_count": 40,
     "metadata": {},
     "output_type": "execute_result"
    }
   ],
   "source": [
    "conversation({\"question\": \"What is Variance Inflation factor ?\"})"
   ]
  },
  {
   "cell_type": "code",
   "execution_count": 41,
   "metadata": {},
   "outputs": [
    {
     "name": "stderr",
     "output_type": "stream",
     "text": [
      "Error in StdOutCallbackHandler.on_chain_start callback: AttributeError(\"'NoneType' object has no attribute 'get'\")\n"
     ]
    },
    {
     "name": "stdout",
     "output_type": "stream",
     "text": [
      "Prompt after formatting:\n",
      "\u001b[32;1m\u001b[1;3mSystem: You are a nice chatbot having a conversation with a human.\n",
      "Human: hi\n",
      "AI: Hello! How are you today?\n",
      "Human: My name is Hitesh and I have love Artificial Intelligence.\n",
      "AI: Nice to meet you, Hitesh! It's great to hear that you love Artificial Intelligence. What specifically about AI interests you the most?\n",
      "Human: What is Variance Inflation factor ?\n",
      "AI: Variance Inflation Factor (VIF) is a measure used in statistics to quantify how much the variance of the estimated regression coefficients is increased due to multicollinearity in the predictor variables. \n",
      "\n",
      "In simple terms, VIF helps to identify if there is a high correlation between predictor variables in a regression model, which can cause issues like unstable coefficients or inflated standard errors. A high VIF value indicates that the variable may be redundant and can affect the accuracy and reliability of the regression analysis. \n",
      "\n",
      "Typically, a VIF value greater than 10 is considered problematic, indicating strong multicollinearity. Researchers often use VIF as a diagnostic tool to assess multicollinearity in regression models and make necessary adjustments to improve the model's performance.\n",
      "Human: Do you remember my name?\u001b[0m\n",
      "\n",
      "\u001b[1m> Finished chain.\u001b[0m\n"
     ]
    },
    {
     "data": {
      "text/plain": [
       "{'question': 'Do you remember my name?',\n",
       " 'chat_history': [HumanMessage(content='hi'),\n",
       "  AIMessage(content='Hello! How are you today?'),\n",
       "  HumanMessage(content='My name is Hitesh and I have love Artificial Intelligence.'),\n",
       "  AIMessage(content=\"Nice to meet you, Hitesh! It's great to hear that you love Artificial Intelligence. What specifically about AI interests you the most?\"),\n",
       "  HumanMessage(content='What is Variance Inflation factor ?'),\n",
       "  AIMessage(content=\"Variance Inflation Factor (VIF) is a measure used in statistics to quantify how much the variance of the estimated regression coefficients is increased due to multicollinearity in the predictor variables. \\n\\nIn simple terms, VIF helps to identify if there is a high correlation between predictor variables in a regression model, which can cause issues like unstable coefficients or inflated standard errors. A high VIF value indicates that the variable may be redundant and can affect the accuracy and reliability of the regression analysis. \\n\\nTypically, a VIF value greater than 10 is considered problematic, indicating strong multicollinearity. Researchers often use VIF as a diagnostic tool to assess multicollinearity in regression models and make necessary adjustments to improve the model's performance.\"),\n",
       "  HumanMessage(content='Do you remember my name?'),\n",
       "  AIMessage(content='Yes, your name is Hitesh.')],\n",
       " 'text': 'Yes, your name is Hitesh.'}"
      ]
     },
     "execution_count": 41,
     "metadata": {},
     "output_type": "execute_result"
    }
   ],
   "source": [
    "conversation({\"question\": \"Do you remember my name?\"})"
   ]
  },
  {
   "cell_type": "code",
   "execution_count": 42,
   "metadata": {},
   "outputs": [
    {
     "name": "stdout",
     "output_type": "stream",
     "text": [
      "[HumanMessage(content='hi'), AIMessage(content='Hello! How are you today?'), HumanMessage(content='My name is Hitesh and I have love Artificial Intelligence.'), AIMessage(content=\"Nice to meet you, Hitesh! It's great to hear that you love Artificial Intelligence. What specifically about AI interests you the most?\"), HumanMessage(content='What is Variance Inflation factor ?'), AIMessage(content=\"Variance Inflation Factor (VIF) is a measure used in statistics to quantify how much the variance of the estimated regression coefficients is increased due to multicollinearity in the predictor variables. \\n\\nIn simple terms, VIF helps to identify if there is a high correlation between predictor variables in a regression model, which can cause issues like unstable coefficients or inflated standard errors. A high VIF value indicates that the variable may be redundant and can affect the accuracy and reliability of the regression analysis. \\n\\nTypically, a VIF value greater than 10 is considered problematic, indicating strong multicollinearity. Researchers often use VIF as a diagnostic tool to assess multicollinearity in regression models and make necessary adjustments to improve the model's performance.\"), HumanMessage(content='Do you remember my name?'), AIMessage(content='Yes, your name is Hitesh.')]\n"
     ]
    }
   ],
   "source": [
    "print(memory.buffer)"
   ]
  },
  {
   "cell_type": "markdown",
   "metadata": {},
   "source": [
    "#### **Conversation Buffer Window Memory**\n",
    "\n",
    "- Similar to the previous one, but you can limit the number of conversational exchanges stored in memory. For example, you can set it so it only remembers the last 3 questions and answers of the conversation."
   ]
  },
  {
   "cell_type": "code",
   "execution_count": 43,
   "metadata": {},
   "outputs": [],
   "source": [
    "from langchain.memory import ConversationBufferWindowMemory\n",
    "from langchain.chains import ConversationChain"
   ]
  },
  {
   "cell_type": "code",
   "execution_count": 44,
   "metadata": {},
   "outputs": [],
   "source": [
    "window_memory = ConversationBufferWindowMemory(k=3)"
   ]
  },
  {
   "cell_type": "code",
   "execution_count": 45,
   "metadata": {},
   "outputs": [],
   "source": [
    "conversation_window = ConversationChain(\n",
    "    llm=model, \n",
    "    memory = window_memory,\n",
    "    verbose=True\n",
    ")"
   ]
  },
  {
   "cell_type": "code",
   "execution_count": 46,
   "metadata": {},
   "outputs": [
    {
     "name": "stderr",
     "output_type": "stream",
     "text": [
      "Error in StdOutCallbackHandler.on_chain_start callback: AttributeError(\"'NoneType' object has no attribute 'get'\")\n"
     ]
    },
    {
     "name": "stdout",
     "output_type": "stream",
     "text": [
      "Prompt after formatting:\n",
      "\u001b[32;1m\u001b[1;3mThe following is a friendly conversation between a human and an AI. The AI is talkative and provides lots of specific details from its context. If the AI does not know the answer to a question, it truthfully says it does not know.\n",
      "\n",
      "Current conversation:\n",
      "\n",
      "Human: Hi, my name is Hitesh\n",
      "AI:\u001b[0m\n",
      "\n",
      "\u001b[1m> Finished chain.\u001b[0m\n"
     ]
    },
    {
     "data": {
      "text/plain": [
       "{'input': 'Hi, my name is Hitesh',\n",
       " 'history': '',\n",
       " 'response': \"Hello Hitesh! It's nice to meet you. How can I assist you today?\"}"
      ]
     },
     "execution_count": 46,
     "metadata": {},
     "output_type": "execute_result"
    }
   ],
   "source": [
    "conversation_window({\"input\": \"Hi, my name is Hitesh\"})"
   ]
  },
  {
   "cell_type": "code",
   "execution_count": 47,
   "metadata": {},
   "outputs": [
    {
     "name": "stderr",
     "output_type": "stream",
     "text": [
      "Error in StdOutCallbackHandler.on_chain_start callback: AttributeError(\"'NoneType' object has no attribute 'get'\")\n"
     ]
    },
    {
     "name": "stdout",
     "output_type": "stream",
     "text": [
      "Prompt after formatting:\n",
      "\u001b[32;1m\u001b[1;3mThe following is a friendly conversation between a human and an AI. The AI is talkative and provides lots of specific details from its context. If the AI does not know the answer to a question, it truthfully says it does not know.\n",
      "\n",
      "Current conversation:\n",
      "Human: Hi, my name is Hitesh\n",
      "AI: Hello Hitesh! It's nice to meet you. How can I assist you today?\n",
      "Human: My favorite color is blue\n",
      "AI:\u001b[0m\n",
      "\n",
      "\u001b[1m> Finished chain.\u001b[0m\n"
     ]
    },
    {
     "data": {
      "text/plain": [
       "{'input': 'My favorite color is blue',\n",
       " 'history': \"Human: Hi, my name is Hitesh\\nAI: Hello Hitesh! It's nice to meet you. How can I assist you today?\",\n",
       " 'response': \"Blue is a great color choice! Did you know that blue is often associated with calmness, trustworthiness, and intelligence? It's a popular color for logos and branding because of its positive qualities. Do you have a specific reason why blue is your favorite color?\"}"
      ]
     },
     "execution_count": 47,
     "metadata": {},
     "output_type": "execute_result"
    }
   ],
   "source": [
    "conversation_window({\"input\": \"My favorite color is blue\"})"
   ]
  },
  {
   "cell_type": "code",
   "execution_count": 48,
   "metadata": {},
   "outputs": [
    {
     "name": "stderr",
     "output_type": "stream",
     "text": [
      "Error in StdOutCallbackHandler.on_chain_start callback: AttributeError(\"'NoneType' object has no attribute 'get'\")\n"
     ]
    },
    {
     "name": "stdout",
     "output_type": "stream",
     "text": [
      "Prompt after formatting:\n",
      "\u001b[32;1m\u001b[1;3mThe following is a friendly conversation between a human and an AI. The AI is talkative and provides lots of specific details from its context. If the AI does not know the answer to a question, it truthfully says it does not know.\n",
      "\n",
      "Current conversation:\n",
      "Human: Hi, my name is Hitesh\n",
      "AI: Hello Hitesh! It's nice to meet you. How can I assist you today?\n",
      "Human: My favorite color is blue\n",
      "AI: Blue is a great color choice! Did you know that blue is often associated with calmness, trustworthiness, and intelligence? It's a popular color for logos and branding because of its positive qualities. Do you have a specific reason why blue is your favorite color?\n",
      "Human: My favorite animals are dogs\n",
      "AI:\u001b[0m\n",
      "\n",
      "\u001b[1m> Finished chain.\u001b[0m\n"
     ]
    },
    {
     "data": {
      "text/plain": [
       "{'input': 'My favorite animals are dogs',\n",
       " 'history': \"Human: Hi, my name is Hitesh\\nAI: Hello Hitesh! It's nice to meet you. How can I assist you today?\\nHuman: My favorite color is blue\\nAI: Blue is a great color choice! Did you know that blue is often associated with calmness, trustworthiness, and intelligence? It's a popular color for logos and branding because of its positive qualities. Do you have a specific reason why blue is your favorite color?\",\n",
       " 'response': 'Dogs are wonderful animals! They are known for their loyalty, companionship, and playfulness. There are so many different breeds of dogs, each with their own unique characteristics. Do you have a favorite breed of dog, or do you just love all dogs in general?'}"
      ]
     },
     "execution_count": 48,
     "metadata": {},
     "output_type": "execute_result"
    }
   ],
   "source": [
    "conversation_window({\"input\": \"My favorite animals are dogs\"})"
   ]
  },
  {
   "cell_type": "code",
   "execution_count": 49,
   "metadata": {},
   "outputs": [
    {
     "name": "stderr",
     "output_type": "stream",
     "text": [
      "Error in StdOutCallbackHandler.on_chain_start callback: AttributeError(\"'NoneType' object has no attribute 'get'\")\n"
     ]
    },
    {
     "name": "stdout",
     "output_type": "stream",
     "text": [
      "Prompt after formatting:\n",
      "\u001b[32;1m\u001b[1;3mThe following is a friendly conversation between a human and an AI. The AI is talkative and provides lots of specific details from its context. If the AI does not know the answer to a question, it truthfully says it does not know.\n",
      "\n",
      "Current conversation:\n",
      "Human: Hi, my name is Hitesh\n",
      "AI: Hello Hitesh! It's nice to meet you. How can I assist you today?\n",
      "Human: My favorite color is blue\n",
      "AI: Blue is a great color choice! Did you know that blue is often associated with calmness, trustworthiness, and intelligence? It's a popular color for logos and branding because of its positive qualities. Do you have a specific reason why blue is your favorite color?\n",
      "Human: My favorite animals are dogs\n",
      "AI: Dogs are wonderful animals! They are known for their loyalty, companionship, and playfulness. There are so many different breeds of dogs, each with their own unique characteristics. Do you have a favorite breed of dog, or do you just love all dogs in general?\n",
      "Human: I like to eat food\n",
      "AI:\u001b[0m\n",
      "\n",
      "\u001b[1m> Finished chain.\u001b[0m\n"
     ]
    },
    {
     "data": {
      "text/plain": [
       "{'input': 'I like to eat food',\n",
       " 'history': \"Human: Hi, my name is Hitesh\\nAI: Hello Hitesh! It's nice to meet you. How can I assist you today?\\nHuman: My favorite color is blue\\nAI: Blue is a great color choice! Did you know that blue is often associated with calmness, trustworthiness, and intelligence? It's a popular color for logos and branding because of its positive qualities. Do you have a specific reason why blue is your favorite color?\\nHuman: My favorite animals are dogs\\nAI: Dogs are wonderful animals! They are known for their loyalty, companionship, and playfulness. There are so many different breeds of dogs, each with their own unique characteristics. Do you have a favorite breed of dog, or do you just love all dogs in general?\",\n",
       " 'response': 'Food is a necessity for all living beings, including humans! There are so many different types of food out there, from savory to sweet, and from all different cuisines around the world. Do you have a favorite type of cuisine or specific dish that you enjoy the most? Let me know if you need any recommendations for recipes or restaurants in your area!'}"
      ]
     },
     "execution_count": 49,
     "metadata": {},
     "output_type": "execute_result"
    }
   ],
   "source": [
    "conversation_window({\"input\": \"I like to eat food\"})"
   ]
  },
  {
   "cell_type": "code",
   "execution_count": 50,
   "metadata": {},
   "outputs": [
    {
     "name": "stderr",
     "output_type": "stream",
     "text": [
      "Error in StdOutCallbackHandler.on_chain_start callback: AttributeError(\"'NoneType' object has no attribute 'get'\")\n"
     ]
    },
    {
     "name": "stdout",
     "output_type": "stream",
     "text": [
      "Prompt after formatting:\n",
      "\u001b[32;1m\u001b[1;3mThe following is a friendly conversation between a human and an AI. The AI is talkative and provides lots of specific details from its context. If the AI does not know the answer to a question, it truthfully says it does not know.\n",
      "\n",
      "Current conversation:\n",
      "Human: My favorite color is blue\n",
      "AI: Blue is a great color choice! Did you know that blue is often associated with calmness, trustworthiness, and intelligence? It's a popular color for logos and branding because of its positive qualities. Do you have a specific reason why blue is your favorite color?\n",
      "Human: My favorite animals are dogs\n",
      "AI: Dogs are wonderful animals! They are known for their loyalty, companionship, and playfulness. There are so many different breeds of dogs, each with their own unique characteristics. Do you have a favorite breed of dog, or do you just love all dogs in general?\n",
      "Human: I like to eat food\n",
      "AI: Food is a necessity for all living beings, including humans! There are so many different types of food out there, from savory to sweet, and from all different cuisines around the world. Do you have a favorite type of cuisine or specific dish that you enjoy the most? Let me know if you need any recommendations for recipes or restaurants in your area!\n",
      "Human: My favorite city is New york\n",
      "AI:\u001b[0m\n",
      "\n",
      "\u001b[1m> Finished chain.\u001b[0m\n"
     ]
    },
    {
     "data": {
      "text/plain": [
       "{'input': 'My favorite city is New york',\n",
       " 'history': \"Human: My favorite color is blue\\nAI: Blue is a great color choice! Did you know that blue is often associated with calmness, trustworthiness, and intelligence? It's a popular color for logos and branding because of its positive qualities. Do you have a specific reason why blue is your favorite color?\\nHuman: My favorite animals are dogs\\nAI: Dogs are wonderful animals! They are known for their loyalty, companionship, and playfulness. There are so many different breeds of dogs, each with their own unique characteristics. Do you have a favorite breed of dog, or do you just love all dogs in general?\\nHuman: I like to eat food\\nAI: Food is a necessity for all living beings, including humans! There are so many different types of food out there, from savory to sweet, and from all different cuisines around the world. Do you have a favorite type of cuisine or specific dish that you enjoy the most? Let me know if you need any recommendations for recipes or restaurants in your area!\",\n",
       " 'response': \"New York City is a vibrant and bustling metropolis with so much to offer! From iconic landmarks like the Statue of Liberty and Central Park to world-class museums, Broadway shows, and diverse neighborhoods, there's always something new to discover in the Big Apple. Have you visited New York City before, or is it a place you hope to visit in the future? Let me know if you need any tips or suggestions for your next trip!\"}"
      ]
     },
     "execution_count": 50,
     "metadata": {},
     "output_type": "execute_result"
    }
   ],
   "source": [
    "conversation_window({\"input\": \"My favorite city is New york\"})"
   ]
  },
  {
   "cell_type": "code",
   "execution_count": 51,
   "metadata": {},
   "outputs": [
    {
     "name": "stderr",
     "output_type": "stream",
     "text": [
      "Error in StdOutCallbackHandler.on_chain_start callback: AttributeError(\"'NoneType' object has no attribute 'get'\")\n"
     ]
    },
    {
     "name": "stdout",
     "output_type": "stream",
     "text": [
      "Prompt after formatting:\n",
      "\u001b[32;1m\u001b[1;3mThe following is a friendly conversation between a human and an AI. The AI is talkative and provides lots of specific details from its context. If the AI does not know the answer to a question, it truthfully says it does not know.\n",
      "\n",
      "Current conversation:\n",
      "Human: My favorite animals are dogs\n",
      "AI: Dogs are wonderful animals! They are known for their loyalty, companionship, and playfulness. There are so many different breeds of dogs, each with their own unique characteristics. Do you have a favorite breed of dog, or do you just love all dogs in general?\n",
      "Human: I like to eat food\n",
      "AI: Food is a necessity for all living beings, including humans! There are so many different types of food out there, from savory to sweet, and from all different cuisines around the world. Do you have a favorite type of cuisine or specific dish that you enjoy the most? Let me know if you need any recommendations for recipes or restaurants in your area!\n",
      "Human: My favorite city is New york\n",
      "AI: New York City is a vibrant and bustling metropolis with so much to offer! From iconic landmarks like the Statue of Liberty and Central Park to world-class museums, Broadway shows, and diverse neighborhoods, there's always something new to discover in the Big Apple. Have you visited New York City before, or is it a place you hope to visit in the future? Let me know if you need any tips or suggestions for your next trip!\n",
      "Human: What is my favorite color?\n",
      "AI:\u001b[0m\n",
      "\n",
      "\u001b[1m> Finished chain.\u001b[0m\n"
     ]
    },
    {
     "data": {
      "text/plain": [
       "{'input': 'What is my favorite color?',\n",
       " 'history': \"Human: My favorite animals are dogs\\nAI: Dogs are wonderful animals! They are known for their loyalty, companionship, and playfulness. There are so many different breeds of dogs, each with their own unique characteristics. Do you have a favorite breed of dog, or do you just love all dogs in general?\\nHuman: I like to eat food\\nAI: Food is a necessity for all living beings, including humans! There are so many different types of food out there, from savory to sweet, and from all different cuisines around the world. Do you have a favorite type of cuisine or specific dish that you enjoy the most? Let me know if you need any recommendations for recipes or restaurants in your area!\\nHuman: My favorite city is New york\\nAI: New York City is a vibrant and bustling metropolis with so much to offer! From iconic landmarks like the Statue of Liberty and Central Park to world-class museums, Broadway shows, and diverse neighborhoods, there's always something new to discover in the Big Apple. Have you visited New York City before, or is it a place you hope to visit in the future? Let me know if you need any tips or suggestions for your next trip!\",\n",
       " 'response': \"I'm sorry, but I do not have that information. What is your favorite color?\"}"
      ]
     },
     "execution_count": 51,
     "metadata": {},
     "output_type": "execute_result"
    }
   ],
   "source": [
    "conversation_window({\"input\": \"What is my favorite color?\"})"
   ]
  },
  {
   "cell_type": "code",
   "execution_count": 52,
   "metadata": {},
   "outputs": [
    {
     "name": "stderr",
     "output_type": "stream",
     "text": [
      "Error in StdOutCallbackHandler.on_chain_start callback: AttributeError(\"'NoneType' object has no attribute 'get'\")\n"
     ]
    },
    {
     "name": "stdout",
     "output_type": "stream",
     "text": [
      "Prompt after formatting:\n",
      "\u001b[32;1m\u001b[1;3mThe following is a friendly conversation between a human and an AI. The AI is talkative and provides lots of specific details from its context. If the AI does not know the answer to a question, it truthfully says it does not know.\n",
      "\n",
      "Current conversation:\n",
      "Human: I like to eat food\n",
      "AI: Food is a necessity for all living beings, including humans! There are so many different types of food out there, from savory to sweet, and from all different cuisines around the world. Do you have a favorite type of cuisine or specific dish that you enjoy the most? Let me know if you need any recommendations for recipes or restaurants in your area!\n",
      "Human: My favorite city is New york\n",
      "AI: New York City is a vibrant and bustling metropolis with so much to offer! From iconic landmarks like the Statue of Liberty and Central Park to world-class museums, Broadway shows, and diverse neighborhoods, there's always something new to discover in the Big Apple. Have you visited New York City before, or is it a place you hope to visit in the future? Let me know if you need any tips or suggestions for your next trip!\n",
      "Human: What is my favorite color?\n",
      "AI: I'm sorry, but I do not have that information. What is your favorite color?\n",
      "Human: What is my favorite city?\n",
      "AI:\u001b[0m\n",
      "\n",
      "\u001b[1m> Finished chain.\u001b[0m\n"
     ]
    },
    {
     "data": {
      "text/plain": [
       "{'input': 'What is my favorite city?',\n",
       " 'history': \"Human: I like to eat food\\nAI: Food is a necessity for all living beings, including humans! There are so many different types of food out there, from savory to sweet, and from all different cuisines around the world. Do you have a favorite type of cuisine or specific dish that you enjoy the most? Let me know if you need any recommendations for recipes or restaurants in your area!\\nHuman: My favorite city is New york\\nAI: New York City is a vibrant and bustling metropolis with so much to offer! From iconic landmarks like the Statue of Liberty and Central Park to world-class museums, Broadway shows, and diverse neighborhoods, there's always something new to discover in the Big Apple. Have you visited New York City before, or is it a place you hope to visit in the future? Let me know if you need any tips or suggestions for your next trip!\\nHuman: What is my favorite color?\\nAI: I'm sorry, but I do not have that information. What is your favorite color?\",\n",
       " 'response': \"I'm sorry, but I do not have that information. What is your favorite city?\"}"
      ]
     },
     "execution_count": 52,
     "metadata": {},
     "output_type": "execute_result"
    }
   ],
   "source": [
    "conversation_window({\"input\": \"What is my favorite city?\"})"
   ]
  },
  {
   "cell_type": "markdown",
   "metadata": {},
   "source": [
    "#### **Chat Message History**\n",
    "\n",
    "- Save list of chat messages and then fetch them all."
   ]
  },
  {
   "cell_type": "code",
   "execution_count": 53,
   "metadata": {},
   "outputs": [],
   "source": [
    "from langchain_openai import ChatOpenAI\n",
    "\n",
    "llm = ChatOpenAI(model=\"gpt-3.5-turbo-0125\")"
   ]
  },
  {
   "cell_type": "code",
   "execution_count": 54,
   "metadata": {},
   "outputs": [],
   "source": [
    "from langchain.memory import ChatMessageHistory\n",
    "\n",
    "history = ChatMessageHistory()\n",
    "\n",
    "history.add_user_message(\"hi!\")\n",
    "\n",
    "history.add_ai_message(\"whats up?\")"
   ]
  },
  {
   "cell_type": "code",
   "execution_count": 55,
   "metadata": {},
   "outputs": [
    {
     "data": {
      "text/plain": [
       "[HumanMessage(content='hi!'), AIMessage(content='whats up?')]"
      ]
     },
     "execution_count": 55,
     "metadata": {},
     "output_type": "execute_result"
    }
   ],
   "source": [
    "history.messages"
   ]
  },
  {
   "cell_type": "code",
   "execution_count": null,
   "metadata": {},
   "outputs": [],
   "source": []
  }
 ],
 "metadata": {
  "kernelspec": {
   "display_name": "venv",
   "language": "python",
   "name": "python3"
  },
  "language_info": {
   "codemirror_mode": {
    "name": "ipython",
    "version": 3
   },
   "file_extension": ".py",
   "mimetype": "text/x-python",
   "name": "python",
   "nbconvert_exporter": "python",
   "pygments_lexer": "ipython3",
   "version": "3.12.0"
  }
 },
 "nbformat": 4,
 "nbformat_minor": 2
}
